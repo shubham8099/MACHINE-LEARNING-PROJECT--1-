{
 "cells": [
  {
   "cell_type": "code",
   "execution_count": 1,
   "id": "0b0d2946-17b5-43dc-b4ce-cd222d7abd92",
   "metadata": {},
   "outputs": [],
   "source": [
    "# jai Maa Saraswati :"
   ]
  },
  {
   "cell_type": "markdown",
   "id": "292584f8-997c-4696-b6b5-0c598f01e77f",
   "metadata": {},
   "source": [
    "# INTRODUCTION TO MACHINE LEARNING - 1"
   ]
  },
  {
   "cell_type": "markdown",
   "id": "40a37162-1331-487f-8354-57fb47409070",
   "metadata": {},
   "source": [
    "Q1- Explaine the following with an Example:-\n",
    "A) Artificial Intelligence\n",
    "B) Machine Learning \n",
    "C) Deep Learning"
   ]
  },
  {
   "cell_type": "markdown",
   "id": "5b099479-04e2-4d10-b571-e2fadd642ffb",
   "metadata": {},
   "source": [
    "# ARTIFICIAL INTELLIGENCE :\n",
    "\n",
    "* (AI) Artificial intelligence is a smart Software which can perfrom the Task without interfearance of Human. they can          perform within a Minute . \n",
    "  \n",
    "* Example of AI :- One of the Best Example of AI  is Natural Processing Language(NLP) used in Virtual Assistance Like -\n",
    "  Apple siri and Google Assistance . They use AI algorithums to countinuos Learning and increase their Performance for\n",
    "  the Better Experience .\n",
    "  \n",
    "* (ML) Machine Learning is the Subset of AI which is Involved in the Development of Algorithum & Statistical model \n",
    "  that Enable computers Learn from and Make the Decision or Predictions Based on the Given Data . ML is the process\n",
    "  of Teaching to Train the Models and Model are trained by their Patterns and Make Decision Based on the Pattern .\n",
    "\n",
    "* Example of ML   \n",
    "  \n",
    "* (DL) deep Learning is a Subset of ML that uses a Artificial Neural Networks with multiple Layers to learn and Decision\n",
    "   from the Large amount of Data . It is inspired by the Structure and Function of the Human known as artificial network \n",
    "   which are interconnected neurons that Process Information.\n",
    "   \n",
    "* Example of DL => Image Recognition. DL models have convolutional Neural Network(CNN) can be Trained on a Large Dataset of\n",
    "  labeled Dataset ."
   ]
  },
  {
   "cell_type": "markdown",
   "id": "8e20646a-251d-4ea9-905a-f855ae3e7eef",
   "metadata": {},
   "source": [
    "Q2- What is supervised machine Learning ? List some example of Supervised ML ."
   ]
  },
  {
   "cell_type": "markdown",
   "id": "1ac24de6-9165-4c75-b72a-8c1daab746d2",
   "metadata": {},
   "source": [
    "# Supervised Machine Learning : \n",
    "\n",
    "* Supervise Machine Learning is a type of Machine Learning where the Algorithum Learned from the Label Training Data to\n",
    "  Make the Predictions or Decision . In the Supervised Machine Learning the Training Data Includes the Input-Output pairs\n",
    "  where Input is the Feature(s) of the Data and the Output is Labeled Target variable that model Aim to Predict .\n",
    "  \n",
    "# Key characterstics of Supervised Machine Learning \n",
    "\n",
    "* The Algorithum Learn to Map input Data to the Correct Output Data Based on the Labeled Examples .\n",
    "* It Requires labeled Data for the Training .\n",
    "* The Goal is generalize the Mapping Function so that it can Predict output for new unseen Data .\n",
    "\n",
    "# Example of Supervised Machine Learning :\n",
    "\n",
    "* Linear Regression : Predicting the Continuos numerical Value based on the Input Feature for Example , Predicting the\n",
    "  House Price based on the House Size , Location , Size and number of Rooms .\n",
    "  \n",
    "* Logistic Regression : Predicting the Binary Categorical Outcome(0 or 1 and Yes or No) Based on the Input Feature for \n",
    "  Example , Predicting whether a Customer will churn(Leave) based on the Service Based on Demographic and usage Data .\n",
    "    "
   ]
  },
  {
   "cell_type": "markdown",
   "id": "b442c4ed-0aec-44d1-84eb-15a2e45040b8",
   "metadata": {},
   "source": [
    "Q3- What is unsupervised Machine Learning ? List some Example of Unsupervised ML ."
   ]
  },
  {
   "cell_type": "markdown",
   "id": "49e09daa-5db0-4612-ac9b-6a934d43537d",
   "metadata": {},
   "source": [
    "# Unsupervised Machine Learning :\n",
    "\n",
    "* Unsupervised machine learning is the type of machine learning where the algorithum learns patterns and Structure\n",
    "  from the input data without Explicit feedback or Lebeled  response from an External Source . Unlike supervised \n",
    "  machine Learning , there are no predefined Target Variable to Predict . Instead the algorithum explore the Data\n",
    "  to find the Patterns or Relationship .\n",
    "  \n",
    "# Key Characterstics of Unsupervised Machine Learning :\n",
    "\n",
    "* It Does not Require the Labeled Data for the Training .\n",
    "* The Algorithum Aim to Discover the Underlying Structure or Distribution in the Data .\n",
    "* Common task Include Clustering , dimensionality reduction .\n",
    "\n",
    "# Examples :-\n",
    "\n",
    "# Clustering Algorithums :\n",
    "\n",
    "* => K-means Clustering: Divides data points into K clusters based on similarities in features. For example, grouping            customers into segments based on purchasing behavior.\n",
    "\n",
    "* => Hierarchical Clustering: Builds a hierarchy of clusters where each data point starts as its own cluster and clusters        are merged based on similarity.\n",
    "\n",
    "# Dimensionality Reduction :\n",
    "\n",
    "* => Principal Component Analysis (PCA): Reduces the dimensionality of the data by finding a set of orthogonal components        that explain the maximum variance. Useful for visualization and feature selection.\n",
    "\n",
    "* => t-Distributed Stochastic Neighbor Embedding (t-SNE): Reduces high-dimensional data to a lower-dimensional space for          visualization, preserving local structure."
   ]
  },
  {
   "cell_type": "markdown",
   "id": "ee3c3bda-cef6-49e1-8f93-4f4bf6f54c73",
   "metadata": {},
   "source": [
    "Q4- What is the difference between AI, ML, DL, and DS ?"
   ]
  },
  {
   "cell_type": "markdown",
   "id": "e2b37559-8e5b-4585-a305-8e1b840c8477",
   "metadata": {},
   "source": [
    "# AI , ML , DL , DS \n",
    "\n",
    "# ARTIFICIAL INTELLIGENCE(AI) :-\n",
    "\n",
    "* Artificial intelligence is a smart Software that can perform the Given Task Without any help of Human . It can also\n",
    "  says that Simulation of Human Intelligence in Machine that are Programmed to think like a Human and Mimic their Actions .\n",
    "  \n",
    "* Scope : It Encompasses a Broad range Techniques and methods aimed at enabling machines to perform the Tasks that Typically\n",
    "  Require Human Intelligence such as Resoning , problem_solving , Learning .\n",
    "  \n",
    "* Example : Virtual Assistance(Siri , Alexa ) and Game playing AI(AlphaGo) and Natural Language Processing(NLP) \n",
    "\n",
    "# MACHINE LEARNING(ML) :-\n",
    "\n",
    "* Machine Learning is a Subset of AI which is Involved in the Development of Algorithum and Statistical model is Learn \n",
    "  from the Labeled Data and Predict the Decision . ML is the Process of the Train Models Based of their Given Data and Model\n",
    "  Follow their Pattern and make Decision Based on the Data .\n",
    "\n",
    "* There Are two type of ML \n",
    "  *(i) Supervised ML\n",
    "  *(ii) Unsupervised ML\n",
    "\n",
    "* Key Feature : ML Algorithum Learn Pattern from the Data to Make Decision or Predictions , improving their Performance \n",
    "  by Learning and overtime as they are Exposed to more Data .\n",
    "  \n",
    "* Example :  Supervised ML(Linear Regression , classification) and Unsupervised ML(Clustering , Dimensionality Reduction)\n",
    "  And Reinforcement Learning(Training Algorithum to play Game or control Robots) .\n",
    "  \n",
    "# DEEP LEARNING(DL) :\n",
    "\n",
    "* Deep Learning is the Subset of ML which use the Artifical Neural Network with many Layers(deep Learn) to learn and \n",
    "  Decision from the Large amount of the Data . It is inspired by the Structure and Function of the Humsn known as \n",
    "  Artificial Network which are Interconnect Neurons that Process Data .\n",
    "  \n",
    "* Key Feature : Deep Learning is inspired by the Structured and Function of Human Brain enableing them to Learn Hierarchical\n",
    "  Representation of data and perform Complex Task such as Image and Speech Recognition .\n",
    "  \n",
    "* Example :- Convolutional Neural Network(CNN) for the Image Recognition , Recurrent Neural Network(RNN) for natural \n",
    "  Language Process .\n",
    "  \n",
    "# DATA SCIENCE :\n",
    "\n",
    "* Data science is a interdisciplinary field that Combined knowledge , programming , skills , and Statistical method \n",
    "  to Extract Insights and Knowledge from the Data .\n",
    "  \n",
    "* Scope : DS involve in data Cleaning , prepartion , Analysis , visualization and Interpretation and Decision Making .\n",
    "\n",
    "* Skill Involved : Data science encompasses a wide range of skills including statistics, machine learning, data mining, data   visualization, domain expertise, and programming (e.g., Python, R)."
   ]
  },
  {
   "cell_type": "markdown",
   "id": "e42654cc-f2c5-447c-825d-aed310240221",
   "metadata": {},
   "source": [
    "Q5- What are the main differences between supervised, unsupervised, and semi-supervised learning ?"
   ]
  },
  {
   "cell_type": "markdown",
   "id": "f48d4b07-5f41-4005-bd26-871932bb9f3f",
   "metadata": {},
   "source": [
    "# SUPERVISED LEARNING :-\n",
    "\n",
    "* Definition : Supervised Machine Learning involves in the Training of Model Based on The Labeled Data . We Train the Model\n",
    "               With Input & Output Features .   \n",
    "* Objective : The Goal is To Learn Mapping from input & Output Features Based on the Labeled Data .\n",
    "* Examples : Classification(Predecting a Label/ Category ) and Regression(Predicting a Continous values), object Decetation.\n",
    "* Process : The Model Learns From Input-Output Features Based on the Labeled Data and its Performance is Evaluated Based\n",
    "            on the Predection of the output Features \n",
    "            \n",
    "# UNSUPERVISED LEARNING :-\n",
    "\n",
    "* Definition : Unsupervised learning involves on the Training of the model Based on the Unlabeled Data where model try\n",
    "               to Learn the Underlying Structure or Distribution of the Data . In the Unsupervised Learning there is no\n",
    "               given Target Variable . Model train Based on the input Features and he Want to predict the output .\n",
    "               \n",
    "* Objective : The Goal is to Find Patterns & Relationship or intrinsic Structure of the Data .\n",
    "* Examples : Clutering(Grouping Similar instances Together) Anomly Detection .\n",
    "* Process : The Model Learn Patterns without Input - Output Features , often by indentifying the Similarities , difference\n",
    "            And other Patterns .\n",
    "            \n",
    "            \n",
    "# SEMI - SUPERVISED LEARNING \n",
    "\n",
    "* Definition : Semi Supervised is a Hybrid Approach that uses a Small amount of Labeled Data And Large Amount of Unlabeled\n",
    "               Data .\n",
    "* Objective : It leverage the idea that Labeled data if often expensive or Time-Consuming to obtain, while Unlabeled data is\n",
    "              More Abudant and Eaiser to Collect . The Model use Both type of the Data to Improve the Learning accuracy and\n",
    "              Generalization . \n",
    "* Examples : Text Classification(Using a few Labeled Examples with a large corpus of Unlabeled Data) , Speech Recognition,\n",
    "             image Recognition .\n",
    "             \n",
    "# KEY DIFFERENCE :\n",
    "\n",
    "# DATA REQUIREMENT :\n",
    "* Supervised => Using a Labeled Dataset .\n",
    "* Unsupervised => Using a Unlabeled Dataset .\n",
    "* Semi-Supervised => Hybrid Approach(Using the Both Supervised and Unsupervised) \n",
    "\n",
    "# GOAL :\n",
    "\n",
    "* Supervised => Learn to Predict & Classify Based on the Labeled Data .\n",
    "* Unsupervised => Discover the Hidden Patterns & Structure on the Unlabeled Data .\n",
    "* Semi-Supervised => Improve the LEarning Using the Both Supervised &b Unsupervised .\n",
    "\n",
    "# APPLICATIONS :\n",
    "\n",
    "* Supervised => Common in the Where Labeled Data is Present And Goal To Predict the Output or Classification .\n",
    "* Unsupervised => Useful When Exploring the Data to Understand Underlying Structure or Relationship .\n",
    "* Semi-Supervised => Benifical in Scenario where Labeling Data is Costly ."
   ]
  },
  {
   "cell_type": "markdown",
   "id": "42c368f0-8206-4386-b6e3-d0715ce16698",
   "metadata": {},
   "source": [
    "Q6- What is train, test and validation split? Explain the importance of Each term ? "
   ]
  },
  {
   "cell_type": "markdown",
   "id": "865751f8-b8db-4732-8001-185a0d886154",
   "metadata": {},
   "source": [
    "* The terms Train , Test and Validation is Refer to Divison of the Dataset into the Subset for Different Stages of the \n",
    "  Machine Learning Model Development Process . Each Subset Serves a Specific Purpose and their Proper use is Cruical \n",
    "  for Developing and Evaluating Robust Machine Learning Models .\n",
    "  \n",
    "# TRAINING SET \n",
    "\n",
    "* Definition : The Training Set is the Subset of Data use to Train the Machine Learning Models . It Consist of Input-Output\n",
    "               Pairs(Features and Coressponding Labels) that the Model use to Learn Patterns & Relationship .\n",
    "               \n",
    "* Importance : The Training Dataset is Essential Because It is where Model Learn From the Labeled Data . The Goal is to\n",
    "               Expose the Model to a Variety of Examples so that it can generalize well to unseen Data . The Model\n",
    "               Adjust her Parameters during Training to Minimize the Error Between Predictions and the Actual Label \n",
    "               in the Training data .\n",
    "               \n",
    "# VALIDATION SET \n",
    "\n",
    "* Definition : The Validation set(Development Set) is a Subset of the Data Used to Tune the Hyperparameter of the Model\n",
    "               and To Provide an Unbaised evaluation of the Model Performance During Training .\n",
    "               \n",
    "* Importance : The Validation Sets help in assesing how well the Model generalize to new Data that it has Not seen During \n",
    "               The Training Period . By Evalueating the Model on the Validation set we can adjust its hyperParameter\n",
    "               (such as Learning rate , regularzation the Strength) optimize the Model Performance without overfitting\n",
    "               to the Training Data .\n",
    "               \n",
    "# TEST SET \n",
    "\n",
    "* Definition : The Test set is a subset of the Dataset that is used to Evaluate the Final Performance of the Machine \n",
    "               Learning Models after it has been Trained And Tuned on the Validation sets.\n",
    "               \n",
    "* Importance : The Test set Provide a unbaised Estimate of the Model Performance on new unseen Data .               "
   ]
  },
  {
   "cell_type": "markdown",
   "id": "b8660282-1f4d-4519-9bdf-36529b325baf",
   "metadata": {},
   "source": [
    "Q7- How can unsupervised learning be used in anomaly detection ?"
   ]
  },
  {
   "cell_type": "markdown",
   "id": "e21d4cfd-2481-4839-8b76-390631a118cc",
   "metadata": {},
   "source": [
    "* UnSupervised Machine Learning is Particularly well-Suited for anomaly detection Because it can Identify Patterns And the\n",
    "  Structured in Data without Need of Labeled Example of Anomalies ."
   ]
  },
  {
   "cell_type": "markdown",
   "id": "aa0d43cd-c007-433b-8973-217ee3913ec0",
   "metadata": {},
   "source": [
    "Q8- List down some commonly used supervised learning algorithms and unsupervised learning\n",
    "algorithms."
   ]
  },
  {
   "cell_type": "markdown",
   "id": "debec8d5-695f-40ab-a0be-f2559c942aca",
   "metadata": {},
   "source": [
    "# Supervised Learning Algorithum :\n",
    "\n",
    "* Linear Regression : Used For Predicting Continuos Values Based on Input features .\n",
    "* Logistics Regression : Used For Binary Classification Problem .\n",
    "* Decision Trees : Build A Decision from the Data to Make a Decision .\n",
    "* Random Forest : Ensemble Learning Method Using Multiple Decision Tree .\n",
    "* Support Vector Machines (SVM): Finds a hyperplane that best separates classes in high-dimensional space.\n",
    "* Naive Bayes: Probabilistic classifier based on applying Bayes' theorem with strong independence assumptions between                      features.\n",
    "* K-Nearest Neighbors (K-NN): Classifies data points based on the points that are most similar to them.\n",
    "\n",
    "# Unsupervised Learning Algorithms :\n",
    "\n",
    "* K-Means Clustering: Divides data into clusters based on similarity\n",
    "* Hierarchical Clustering: Builds a hierarchy of clusters by either merging or splitting them.\n",
    "* Principal Component Analysis (PCA): Reduces the dimensionality of data by finding principal components.\n",
    "* Independent Component Analysis (ICA): Separates a multivariate signal into additive subcomponents.\n",
    "* Apriori Algorithm: Finds frequent itemsets in transactional databases.\n",
    "* DBSCAN (Density-Based Spatial Clustering of Applications with Noise): Clusters data points based on density. "
   ]
  },
  {
   "cell_type": "code",
   "execution_count": null,
   "id": "69bb8268-f817-4923-b801-efe2a8752280",
   "metadata": {},
   "outputs": [],
   "source": []
  }
 ],
 "metadata": {
  "kernelspec": {
   "display_name": "Python 3 (ipykernel)",
   "language": "python",
   "name": "python3"
  },
  "language_info": {
   "codemirror_mode": {
    "name": "ipython",
    "version": 3
   },
   "file_extension": ".py",
   "mimetype": "text/x-python",
   "name": "python",
   "nbconvert_exporter": "python",
   "pygments_lexer": "ipython3",
   "version": "3.10.8"
  }
 },
 "nbformat": 4,
 "nbformat_minor": 5
}
